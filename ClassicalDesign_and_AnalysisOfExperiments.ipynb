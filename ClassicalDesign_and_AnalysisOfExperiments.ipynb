{
  "nbformat": 4,
  "nbformat_minor": 0,
  "metadata": {
    "colab": {
      "provenance": [],
      "authorship_tag": "ABX9TyNjuxynGIkO1n0kEMYHhEkn",
      "include_colab_link": true
    },
    "kernelspec": {
      "name": "python3",
      "display_name": "Python 3"
    },
    "language_info": {
      "name": "python"
    }
  },
  "cells": [
    {
      "cell_type": "markdown",
      "metadata": {
        "id": "view-in-github",
        "colab_type": "text"
      },
      "source": [
        "<a href=\"https://colab.research.google.com/github/Dare-Badejo-001/Industrial-Stats-Design-of-experiments/blob/main/ClassicalDesign_and_AnalysisOfExperiments.ipynb\" target=\"_parent\"><img src=\"https://colab.research.google.com/assets/colab-badge.svg\" alt=\"Open In Colab\"/></a>"
      ]
    },
    {
      "cell_type": "markdown",
      "source": [
        "# Overview\n",
        "- Experiemnrs are used in the industry to inprove productivity, reduce variance, enhance quality and obtain robust products and manufacturing processes\n",
        "\n",
        "- Here we study and analyze experiments which are aimed at testing scientific or technological hypothesis.\n",
        "\n",
        "- These hypothesis are concerned with the effects of procedures or treatment quality and productivity; or the general relationship between variables\n",
        "\n",
        "- Designed experiments help determine the conditions uncer which a production process yields maximum output or other optimum results."
      ],
      "metadata": {
        "id": "LssDi-O5Rah4"
      }
    },
    {
      "cell_type": "markdown",
      "source": [
        "## The Basic steps for statistical DOE includes\n",
        "- Define the objectives and criteria to test wether these objectives are met\n",
        "- Define your response variables\n",
        "- Define the factors that affects the response variables ( they are called controllable factors )\n",
        "- Determine the typr of measurements or observations on all variables\n",
        "- Determine the level of measurements of the controllable factors\n",
        "- Hypothesize a statistical model between the pertinent variables and their error distributions\n",
        "- Experimental layout shouldb e designed so that the inference from the gathered data will be :\n",
        "  - Valid\n",
        "  - Precise\n",
        "  - Generalizable\n",
        "  - repeatable  \n",
        "- Trails of should be performed in randome order to avoid bias\n",
        "- resulst should be carefully analyzed\n",
        "- Confirmatory experiments shoould be conducted"
      ],
      "metadata": {
        "id": "Mbl80Sr5SxCe"
      }
    },
    {
      "cell_type": "code",
      "source": [],
      "metadata": {
        "id": "DDaT9e3BUASX"
      },
      "execution_count": null,
      "outputs": []
    }
  ]
}